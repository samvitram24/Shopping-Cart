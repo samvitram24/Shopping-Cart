{
 "cells": [
  {
   "cell_type": "code",
   "execution_count": 3,
   "metadata": {},
   "outputs": [
    {
     "name": "stdout",
     "output_type": "stream",
     "text": [
      "Here are the items in your cart\n",
      "==================================================\n",
      "1: pizza [2]\n",
      "==================================================\n"
     ]
    }
   ],
   "source": [
    "from IPython.display import clear_output\n",
    "\n",
    "def showInstructions():\n",
    "    print(\"\"\"Type 'show' to show your cart items\n",
    "Type 'add' to add cart items.\n",
    "Type 'remove' to remove cart items.\"\"\")\n",
    "    print('=' * 50)\n",
    "\n",
    "def addToCart(a_list, item):\n",
    "    a_list.append(item)\n",
    "\n",
    "def addPriceToCart(a_list,price):\n",
    "    a_list.append(price)\n",
    "    \n",
    "\n",
    "def removeFromCart(a_list, item):\n",
    "    a_list.remove(item)\n",
    "    \n",
    "def removePriceFromCart(a_list,price):\n",
    "    a_list.remove(price)\n",
    "    \n",
    "def cartTotal(a_list):\n",
    "    total = sum(a_list)\n",
    "    print(f\"Cart Total: ${total}\")\n",
    "\n",
    "def showCart(a_list):\n",
    "    print(\"Here are the items in your cart\")\n",
    "    print(\"=\" * 50)\n",
    "    if a_list:\n",
    "        for i, v in enumerate(list(set(a_list))):\n",
    "            print(f\"{i+1}: {v} [{a_list.count(v)}]\")\n",
    "    else:\n",
    "        print(\"You have no items in your cart.\")\n",
    "    print(\"=\" * 50)\n",
    "        \n",
    "def main():\n",
    "    basket = []\n",
    "    totalCost = []\n",
    "    while True:\n",
    "        showInstructions()\n",
    "        showCart(basket)\n",
    "        cartTotal(totalCost)\n",
    "        ask = input(\"What would you like to do (add, remove, show)? Type 'quit' to end program. \")\n",
    "        clear_output()\n",
    "        \n",
    "        if ask.lower() == 'quit':\n",
    "            break\n",
    "        elif ask.lower() == 'add':\n",
    "            item = input(\"What item would you like to add? \")\n",
    "            addPrice=float(input(\"What is the price of this item\"))\n",
    "            addToCart(basket, item)\n",
    "            addPriceToCart(totalCost,addPrice)\n",
    "            clear_output()\n",
    "        elif ask.lower() == 'remove':\n",
    "            item = input(\"What item would you like to remove? \")\n",
    "            removePrice=float(input(\"What is the price of this item\"))\n",
    "            removeFromCart(basket, item)\n",
    "            removePriceFromCart(totalCost,removePrice)\n",
    "            clear_output()\n",
    "        \n",
    "            \n",
    "    showCart(basket)\n",
    "    \n",
    "main()"
   ]
  },
  {
   "cell_type": "code",
   "execution_count": null,
   "metadata": {},
   "outputs": [],
   "source": [
    "\n",
    "\n",
    "\n"
   ]
  },
  {
   "cell_type": "code",
   "execution_count": null,
   "metadata": {},
   "outputs": [],
   "source": [
    "   "
   ]
  },
  {
   "cell_type": "code",
   "execution_count": null,
   "metadata": {},
   "outputs": [],
   "source": []
  }
 ],
 "metadata": {
  "kernelspec": {
   "display_name": "Python 3",
   "language": "python",
   "name": "python3"
  },
  "language_info": {
   "codemirror_mode": {
    "name": "ipython",
    "version": 3
   },
   "file_extension": ".py",
   "mimetype": "text/x-python",
   "name": "python",
   "nbconvert_exporter": "python",
   "pygments_lexer": "ipython3",
   "version": "3.7.6"
  }
 },
 "nbformat": 4,
 "nbformat_minor": 4
}
